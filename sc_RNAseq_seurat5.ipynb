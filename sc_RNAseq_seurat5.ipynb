{
 "cells": [
  {
   "cell_type": "markdown",
   "id": "6243048c-8540-40fd-8e1e-1d75d6f95047",
   "metadata": {},
   "source": [
    "seurat5 gene expression analysis\n",
    "\n",
    "This R-suerat5 notebook analysis four sc-RNAseq samples. \n",
    "This notebook uses parts of: seurat5 pbmc vignette: https://satijalab.org/seurat/articles/pbmc3k_tutorial \n",
    "azimuth vignette: https://satijalab.github.io/azimuth/articles/run_azimuth_tutorial.html\n"
   ]
  },
  {
   "cell_type": "code",
   "execution_count": null,
   "id": "f5b1eb86-1bba-4694-ac57-343f1ae3e836",
   "metadata": {},
   "outputs": [],
   "source": [
    "#load all the required R packages previously installed in the conda env\n",
    "library(dplyr)\n",
    "library(Seurat)\n",
    "library(tidyverse)\n",
    "library(openxlsx)\n",
    "library(ggplot2)\n",
    "library(sctransform)\n",
    "library(pheatmap)\n",
    "library(ggrepel)\n",
    "library(reticulate)\n",
    "library(EnhancedVolcano)\n",
    "library(clustree)\n",
    "library(phateR)\n",
    "library(Rmagic)\n",
    "library(EnhancedVolcano)\n",
    "library(stringr)\n",
    "library(glmGamPoi)\n",
    "library(presto)\n",
    "library(SeuratData)\n",
    "library(Azimuth)\n",
    "library(patchwork)\n",
    "sessionInfo()\n",
    "\n",
    "getwd()"
   ]
  },
  {
   "cell_type": "code",
   "execution_count": null,
   "id": "9e209a8d-e5eb-4f8f-9d93-9040d8b5d84a",
   "metadata": {},
   "outputs": [],
   "source": [
    "# Generate directory name with current date\n",
    "current_date <- format(Sys.Date(), \"%Y%m%d\")\n",
    "outDir <- paste0(current_date, \"_scRNAseq_results\")\n",
    "ifelse(dir.exists(outDir), NA, dir.create(outDir))\n",
    "\n"
   ]
  },
  {
   "cell_type": "code",
   "execution_count": null,
   "id": "c2bab5b6-f343-4d83-80c2-3913a9e269a5",
   "metadata": {},
   "outputs": [],
   "source": [
    "# importing the cellranger count matrices from matrix folder\n",
    "dir.vec <- list.dirs(path = \"./matrix/\")\n",
    "dir.vec <- dir.vec[2:length(dir.vec)]\n",
    "dir.vec\n",
    "length(dir.vec)"
   ]
  },
  {
   "cell_type": "code",
   "execution_count": null,
   "id": "a2fa0fa5-e45c-484d-a7fe-0746a5b6918c",
   "metadata": {},
   "outputs": [],
   "source": [
    "#assigning names to the folders based on the sample names provided by the customer\n",
    "#Do not use underlines(_) in the sample names because seurat uses _ character to seperate sample name and index sequence\n",
    "sampleList <- c('Fetalheart1','Fetalheart2')\n",
    "names(dir.vec) <- sampleList\n",
    "dir.vec"
   ]
  },
  {
   "cell_type": "code",
   "execution_count": null,
   "id": "56672c9a-b617-4bcb-afa0-3632dc4c60cd",
   "metadata": {},
   "outputs": [],
   "source": [
    "#run read10x\n",
    "myRawCount <- Read10X(dir.vec)"
   ]
  },
  {
   "cell_type": "code",
   "execution_count": null,
   "id": "5aea0d56-dc62-41b0-b66d-8c6a71895355",
   "metadata": {},
   "outputs": [],
   "source": [
    "#create initial seurat object using CreateSeuratObject\n",
    "seurat_obj <- CreateSeuratObject(counts = myRawCount, project = \"fetal_heart\", min.cells = 3, min.features = 200)\n",
    "head(seurat_obj@meta.data)"
   ]
  },
  {
   "cell_type": "code",
   "execution_count": null,
   "id": "3bb674fb-17ba-4509-866a-735fb75131e9",
   "metadata": {},
   "outputs": [],
   "source": [
    "#use MT/RP (upper case) for human and mt/rp (lower case) for mouse sequencing\n",
    "seurat_obj <- PercentageFeatureSet(seurat_obj, pattern = \"^MT-\", col.name = \"percent.mt\")\n",
    "seurat_obj <- PercentageFeatureSet(seurat_obj, pattern = \"^RP[Sl][[:digit:]]\", col.name = \"percent.ribo\")"
   ]
  },
  {
   "cell_type": "code",
   "execution_count": null,
   "id": "c6426928-0dd4-4f2e-bab0-93ccc18ee0e2",
   "metadata": {},
   "outputs": [],
   "source": [
    "options(repr.plot.width=12, repr.plot.height=18)\n",
    "#pdf(\"QC_VlnPlot.pdf\",  height = 14, width = 18)\n",
    "pdf(paste(outDir, \"QC_VlnPlot.pdf\", sep=\"/\"),  height = 14, width = 18)\n",
    "VlnPlot<-VlnPlot(seurat_obj, features = c(\"nFeature_RNA\", \"percent.ribo\", \"percent.mt\"), ncol = 3)\n",
    "VlnPlot\n",
    "dev.off()\n",
    "VlnPlot"
   ]
  },
  {
   "cell_type": "code",
   "execution_count": null,
   "id": "5b3bb1bb-68c1-4bcf-9efd-37659fdb67bc",
   "metadata": {},
   "outputs": [],
   "source": [
    "# FeatureScatter is typically used to visualize feature-feature relationships, but can be used\n",
    "# for anything calculated by the object, i.e. columns in object metadata, PC scores etc.\n",
    "pdf(paste(outDir, \"QC_ScatterPlot.pdf\", sep=\"/\"),  height = 14, width = 18)\n",
    "plot1 <- FeatureScatter(seurat_obj, feature1 = \"nCount_RNA\", feature2 = \"percent.mt\")\n",
    "plot2 <- FeatureScatter(seurat_obj, feature1 = \"nCount_RNA\", feature2 = \"nFeature_RNA\")\n",
    "plot1 + plot2\n",
    "dev.off()\n",
    "plot1\n",
    "plot2"
   ]
  },
  {
   "cell_type": "code",
   "execution_count": null,
   "id": "e2983251-877f-431f-a326-aab22f7a3a2f",
   "metadata": {},
   "outputs": [],
   "source": [
    "#filtering nFeature_RNA and percent.mt on the basis of the above plots. for percent.mt where we see the \"tailing\" start\n",
    "#for nFeature_RNA it is generally where the curve starts to staturate\n",
    "seurat_obj <- subset(seurat_obj, subset = nFeature_RNA > 200 & nFeature_RNA < 10000 \n",
    "                 & percent.mt < 8)"
   ]
  },
  {
   "cell_type": "code",
   "execution_count": null,
   "id": "58f683d4-b64b-4a0c-9d1c-9686a899b1e3",
   "metadata": {},
   "outputs": [],
   "source": [
    "# FeatureScatter is typically used to visualize feature-feature relationships, but can be used\n",
    "# for anything calculated by the object, i.e. columns in object metadata, PC scores etc.\n",
    "pdf(paste(outDir, \"QC_ScatterPlot_afterFiltering.pdf\", sep=\"/\"),  height = 14, width = 18)\n",
    "plot1 <- FeatureScatter(seurat_obj, feature1 = \"nCount_RNA\", feature2 = \"percent.mt\")\n",
    "plot2 <- FeatureScatter(seurat_obj, feature1 = \"nCount_RNA\", feature2 = \"nFeature_RNA\")\n",
    "plot1 + plot2\n",
    "dev.off()\n",
    "plot1\n",
    "plot2"
   ]
  },
  {
   "cell_type": "code",
   "execution_count": null,
   "id": "646a30e3-ebf2-458d-8bf0-fc5c403c58a1",
   "metadata": {},
   "outputs": [],
   "source": [
    "#normalizing using SCTransform\n",
    "vars_to_regress <- c(\"nCount_RNA\", \"percent.mt\")\n",
    "system.time(suppressWarnings(seurat_obj <- SCTransform(seurat_obj,\n",
    "                            method = \"glmGamPoi\",\n",
    "                            vst.flavor = \"v2\",\n",
    "                            vars.to.regress = vars_to_regress, \n",
    "                            verbose = FALSE)))"
   ]
  },
  {
   "cell_type": "code",
   "execution_count": null,
   "id": "99123be0-2c8d-4f4e-873b-c65d1be44e46",
   "metadata": {},
   "outputs": [],
   "source": [
    "#running first PCA to estimate the number of dimentions\n",
    "seurat_obj <- RunPCA(seurat_obj, verbose = FALSE)\n",
    "elbow_plot <- ElbowPlot(seurat_obj, ndims = 30)\n",
    "elbow_plot"
   ]
  },
  {
   "cell_type": "code",
   "execution_count": null,
   "id": "4bf8daab-1e53-45e2-a442-559dd2c2b845",
   "metadata": {},
   "outputs": [],
   "source": [
    "#the ndims is estimated where the elobow is in the elbow plot. We use 20 dims based on the elbow plot\n",
    "#the resolution is where the the clusters start to stabilize in the tree\n",
    "seurat_obj <- RunPCA(seurat_obj, verbose = FALSE)\n",
    "seurat_obj <- RunUMAP(seurat_obj, dims = 1:30, verbose = FALSE)\n",
    "seurat_obj <- FindNeighbors(seurat_obj, dims = 1:30, verbose = FALSE)\n",
    "seurat_obj <- FindClusters(seurat_obj, verbose = FALSE)"
   ]
  },
  {
   "cell_type": "code",
   "execution_count": null,
   "id": "eb8a7c3d-4f05-4121-b8fa-43533b9392d0",
   "metadata": {},
   "outputs": [],
   "source": [
    "#running FindClusters over a range of resolutions to determine a reasonable resolution to use\n",
    "resolution.range <- seq(from = 0.2, to = 1.4, by = 0.2)\n",
    "seurat_obj <- FindClusters(seurat_obj, verbose = FALSE, resolution = resolution.range)\n",
    "clustree(seurat_obj, prefix = \"SCT_snn_res.\", node_colour = \"sc3_stability\")"
   ]
  },
  {
   "cell_type": "code",
   "execution_count": null,
   "id": "81492f39-bb82-4c10-a5a2-85cc962b8b30",
   "metadata": {},
   "outputs": [],
   "source": [
    "#looking at the tree.. the clusters seem to stablize at resolution 1-1.2. so we run FindClusters again at resolution 1\n",
    "seurat_obj <- FindClusters(seurat_obj, verbose = FALSE, resolution = 1)\n",
    "#saving the seurat object to reuse later\n",
    "save(seurat_obj, file=\"seurat_obj_UMAP.Rdata\")"
   ]
  },
  {
   "cell_type": "code",
   "execution_count": null,
   "id": "d67dbcc3-38c0-4919-89a7-df60bdb2e67c",
   "metadata": {},
   "outputs": [],
   "source": [
    "markers <- FindAllMarkers(object = seurat_obj, only.pos = TRUE,\n",
    "                                    min.pct = 0.25,  thresh.use = 0.25, \n",
    "                                    assay = \"SCT\")\n",
    "\n",
    "write.xlsx(markers, file=paste(outDir, \"cluster_markers_SCT.xlsx\", sep=\"/\"), \n",
    "           overwrite = T, rowNames=T, colNames=T)"
   ]
  },
  {
   "cell_type": "code",
   "execution_count": null,
   "id": "2f2020ab-0544-445d-b64b-d36756558cad",
   "metadata": {},
   "outputs": [],
   "source": [
    "#azimuth annotation\n",
    "#download human heart reference from https://azimuth.hubmapconsortium.org/references/#Human%20-%20Heart\n",
    "#extract the zip file and save the two index files in a heart/ folder\n",
    "seurat_obj <- RunUMAP(seurat_obj, dims = 1:30, reduction = 'pca', reduction.name = 'AzimuthUMAP')\n",
    "seurat_obj <- RunAzimuth(seurat_obj, reference = \"heart/\")\n",
    "#looking at the annotation col names\n",
    "head(seurat_obj@metadata)"
   ]
  },
  {
   "cell_type": "code",
   "execution_count": null,
   "id": "f333a3f2-2f61-491e-9b93-b576805cd194",
   "metadata": {},
   "outputs": [],
   "source": [
    "#running dimplots at Level1 and Level2 annotations and at cluster and identity levels\n",
    "Index <- DimPlot(seurat_obj, reduction = 'AzimuthUMAP', group.by = 'orig.ident') + NoLegend() +  theme_minimal()\n",
    "Cluster <- DimPlot(seurat_obj, reduction = 'AzimuthUMAP') + NoLegend() +  theme_minimal()\n",
    "Level1 <- DimPlot(seurat_obj, reduction = 'AzimuthUMAP', group.by = 'predicted.celltype.l1', label = TRUE, repel = T) + NoLegend() +  theme_minimal()\n",
    "Level2 <- DimPlot(seurat_obj, reduction = 'AzimuthUMAP', group.by = 'predicted.celltype.l2', label = TRUE, repel = T) + NoLegend() +  theme_minimal()\n"
   ]
  },
  {
   "cell_type": "code",
   "execution_count": null,
   "id": "99793886-1c80-46ac-a776-3831407815c4",
   "metadata": {},
   "outputs": [],
   "source": [
    "#saving the UMAP plots\n",
    "pdf(file = paste(outDir, \"UMAP_bySample.pdf\", sep=\"/\"))\n",
    "Index\n",
    "dev.off()\n",
    "\n",
    "pdf(file = paste(outDir, \"UMAP_byCluster.pdf\", sep=\"/\"))\n",
    "Cluster\n",
    "dev.off()\n",
    "\n",
    "pdf(file = paste(outDir, \"UMAP_by_cellType_Level1.pdf\", sep=\"/\"))\n",
    "Level1\n",
    "dev.off()\n",
    "\n",
    "pdf(file = paste(outDir, \"UMAP_by_cellType_Level2.pdf\", sep=\"/\"))\n",
    "Level2\n",
    "dev.off()"
   ]
  },
  {
   "cell_type": "code",
   "execution_count": null,
   "id": "6f84b382-f64b-46d2-8a58-fd470fa243c7",
   "metadata": {},
   "outputs": [],
   "source": [
    "# here we are creating a function to find the most frequent Level2 marker and combing it with \n",
    "\n",
    "#Top 5 markers per cluster\n",
    "top_markers <- markers %>%\n",
    "  group_by(cluster) %>%\n",
    "  top_n(n = 5, wt = avg_log2FC)\n",
    "\n",
    "Get most frequent Azimuth annotation per cluster\n",
    "get_mode <- function(x) {\n",
    "  ux <- unique(x)\n",
    "  ux[which.max(tabulate(match(x, ux)))]\n",
    "}\n",
    "\n",
    "# Replace 'predicted.celltype' with the actual column name if different\n",
    "cluster_annotations <- seurat_obj@meta.data %>%\n",
    "  group_by(seurat_clusters) %>%\n",
    "  summarize(predicted.celltype.l2 = get_mode(predicted.celltype.l2))\n",
    "\n",
    "#Merge with top markers\n",
    "summary_table <- left_join(top_markers, cluster_annotations, by = c(\"cluster\" = \"seurat_clusters\"))\n",
    "\n",
    "# Step 5: Save to table\n",
    "write.xlsx(summary_table, file=paste(outDir, \"azimuth_cluster_markers_L2.xlsx\", sep=\"/\"), \n",
    "           overwrite = T, rowNames=F, colNames=T)\n"
   ]
  }
 ],
 "metadata": {
  "kernelspec": {
   "display_name": "R",
   "language": "R",
   "name": "ir"
  },
  "language_info": {
   "codemirror_mode": "r",
   "file_extension": ".r",
   "mimetype": "text/x-r-source",
   "name": "R",
   "pygments_lexer": "r",
   "version": "4.4.3"
  }
 },
 "nbformat": 4,
 "nbformat_minor": 5
}
